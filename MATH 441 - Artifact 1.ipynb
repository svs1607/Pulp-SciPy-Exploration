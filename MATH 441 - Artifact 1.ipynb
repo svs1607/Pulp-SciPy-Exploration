{
 "cells": [
  {
   "cell_type": "markdown",
   "id": "ffbccd37-b724-4fef-bdbf-51a90fda92a6",
   "metadata": {},
   "source": [
    "# PuLP VS SciPy: Which optimization method is better?"
   ]
  },
  {
   "cell_type": "markdown",
   "id": "2aeb552d-6d2a-4071-a895-d93ba3c01330",
   "metadata": {},
   "source": [
    "In this artifact, we'll be exploring which of the two different packages and methods used for linear optimization problems is more efficient and is \"better\" to use. We will be looking at runtime, ease of writing code, and flexibility amongst some other factors. Firstly, we'll need to import the necessary packages."
   ]
  },
  {
   "cell_type": "code",
   "execution_count": 8,
   "id": "6ed772c3-30e5-4f6d-afb5-24041ec916ec",
   "metadata": {},
   "outputs": [],
   "source": [
    "import pulp\n",
    "from pulp import *\n",
    "from scipy.optimize import linprog\n",
    "import numpy as np\n",
    "import IPython\n",
    "import timeit"
   ]
  },
  {
   "cell_type": "markdown",
   "id": "0f7187bf-18ea-412d-9252-9e3e0fabda1a",
   "metadata": {},
   "source": [
    "To begin with, we will look at how each package deals with linear optimization and how the problems are structured.\n",
    "\n",
    "### PuLP\n",
    "In PuLP, we create the variables and constraints separately for each constraints. Once the constraints, objective function and variables are defined, we create a problem using the `LpMinimize` or `LpMaximize` function depending on what we are aiming to do, and then add the variables, constraints and function to the problem. In PuLP, we can add each separate constraint and allow it to be an inequality or equality constraint depending on the problems. PuLP also has multiple different types of linear solvers, but for this specific example, we will be using the GLPK solver, which is generally the default on PuLP.\n",
    "\n",
    "\n",
    "\n",
    "### SciPy\n",
    "In SciPy, the primary function used for linear optimization is the `linprog()` function. `linprog()` takes in the constraints in its vector and matrix form as the input and solves the problem. To differentiate between equality and inequality constraints, `linprog()` has different arguments which allow us to specify what type of constraint we have. The main thing to note when using SciPy to solve a linear optimization problem is that `linprog()` always defaults to minimize, so if we are solving a problem where we are looking to maximize the objective function, we would have to input the negative of the objective function and take the negative of the solution as our final answer.\n"
   ]
  },
  {
   "cell_type": "markdown",
   "id": "e3042c1b-9468-4e07-96d9-f4158210ffca",
   "metadata": {},
   "source": [
    "## Sample Problem\n",
    "\n",
    "This sample problem was taken from the Vanderbei Textbook. The problem is as such:\n",
    "\n",
    "$$\n",
    "\\begin{align}\n",
    "\\text{max } & \\mathbf{c}^{T}\\mathbf{x} \\\\\n",
    "\\text{subject to: } & \\mathbf{A}\\mathbf{x} \\leq \\mathbf{b}\n",
    "\\end{align}\n",
    "$$\n",
    "where\n",
    "$$\n",
    "\\mathbf{A} = \\begin{pmatrix} 2 & 3 & 1 \\\\ 4 & 1 & 2\\\\ 3 & 4 & 2 \\end{pmatrix}    \n",
    "\\mathbf{c} = \\begin{pmatrix} 5 \\\\ 4 \\\\ 3 \\end{pmatrix} \n",
    "\\mathbf{b} = \\begin{pmatrix} 5 \\\\ 11 \\\\ 8 \\end{pmatrix} \n",
    "$$"
   ]
  },
  {
   "cell_type": "markdown",
   "id": "cd6c9c2a-093e-48da-b32d-5704d18b2fb4",
   "metadata": {},
   "source": [
    "### PuLP construction\n",
    "The next few cells construct the problem above in PuLP. Note that within PuLP, there are multiple different ways to construct the problem and this is just one of them. First, we create our variables, and then create dictionaries to represent our constraints and objective function. The next step is to then define the problem. As the variables are defined in a list form, we use `LpVariable.dicts` to convert the list into a dictionary of variables as we need, and set the lower bound to 0. Then we can go ahead and add our objective function and constraints to the problem, and then solve. We also look at the status of the solution to make sure its optimal and its what we are looking for."
   ]
  },
  {
   "cell_type": "code",
   "execution_count": 11,
   "id": "79979804-3b42-4757-99af-406f5b2eeb1b",
   "metadata": {},
   "outputs": [
    {
     "name": "stdout",
     "output_type": "stream",
     "text": [
      "GLPSOL: GLPK LP/MIP Solver, v4.65\n",
      "Parameter(s) specified in the command line:\n",
      " --cpxlp /tmp/64f3c6ecf833405b8dd9765ed5628395-pulp.lp -o /tmp/64f3c6ecf833405b8dd9765ed5628395-pulp.sol\n",
      "Reading problem data from '/tmp/64f3c6ecf833405b8dd9765ed5628395-pulp.lp'...\n",
      "3 rows, 3 columns, 9 non-zeros\n",
      "8 lines were read\n",
      "GLPK Simplex Optimizer, v4.65\n",
      "3 rows, 3 columns, 9 non-zeros\n",
      "Preprocessing...\n",
      "3 rows, 3 columns, 9 non-zeros\n",
      "Scaling...\n",
      " A: min|aij| =  1.000e+00  max|aij| =  4.000e+00  ratio =  4.000e+00\n",
      "Problem data seem to be well scaled\n",
      "Constructing initial basis...\n",
      "Size of triangular part is 3\n",
      "*     0: obj =  -0.000000000e+00 inf =   0.000e+00 (3)\n",
      "*     2: obj =   1.300000000e+01 inf =   0.000e+00 (0)\n",
      "OPTIMAL LP SOLUTION FOUND\n",
      "Time used:   0.0 secs\n",
      "Memory used: 0.0 Mb (39693 bytes)\n",
      "Writing basic solution to '/tmp/64f3c6ecf833405b8dd9765ed5628395-pulp.sol'...\n",
      "CPU times: user 4.74 ms, sys: 16.7 ms, total: 21.4 ms\n",
      "Wall time: 30.3 ms\n"
     ]
    },
    {
     "data": {
      "text/plain": [
       "1"
      ]
     },
     "execution_count": 11,
     "metadata": {},
     "output_type": "execute_result"
    }
   ],
   "source": [
    "%%time\n",
    "\n",
    "Variables = ['x1', 'x2', 'x3']\n",
    "\n",
    "# the constraints as in the A matrix\n",
    "\n",
    "a1 = {'x1': 2,\n",
    "      'x2': 3,\n",
    "      'x3' : 1}\n",
    "\n",
    "a2 = {'x1': 4,\n",
    "      'x2': 1,\n",
    "      'x3' : 2}\n",
    "\n",
    "a3 = {'x1': 3,\n",
    "      'x2': 4,\n",
    "      'x3' : 2}\n",
    "\n",
    "# the objective function\n",
    "c = {'x1': 5,\n",
    "    'x2': 4,\n",
    "    'x3' : 3}\n",
    "\n",
    "problem = LpProblem(\"Problem1\", LpMaximize)\n",
    "problem_vars = LpVariable.dicts('x', Variables, lowBound = 0)\n",
    "# adding the constraints\n",
    "problem += lpSum([c[i] * problem_vars[i] for i in Variables])\n",
    "problem += lpSum([a1[i] * problem_vars[i] for i in Variables]) <= 5, \"constraint 1\"\n",
    "problem += lpSum([a2[i] * problem_vars[i] for i in Variables]) <= 11, \"constraint 2\"\n",
    "problem += lpSum([a3[i] * problem_vars[i] for i in Variables]) <= 8, \"constraint 3\"\n",
    "problem.solve()"
   ]
  },
  {
   "cell_type": "code",
   "execution_count": 12,
   "id": "bd272690-32b1-4a6c-8e80-b08babaa101b",
   "metadata": {},
   "outputs": [
    {
     "name": "stdout",
     "output_type": "stream",
     "text": [
      "Optimal\n",
      "Variable x_x1 = 2.0\n",
      "Variable x_x2 = 0.0\n",
      "Variable x_x3 = 1.0\n",
      "z = 13.0\n"
     ]
    }
   ],
   "source": [
    "print(LpStatus[problem.status])\n",
    "for i in problem.variables():\n",
    "    print(\"Variable {0} = {1}\".format(i.name, i.varValue))\n",
    "print(\"z = %s\"%(value(problem.objective)))"
   ]
  },
  {
   "cell_type": "markdown",
   "id": "51edf7c1-d4f9-4ad5-9dd5-d5480d8c1410",
   "metadata": {},
   "source": [
    "### SciPy construction\n",
    "\n",
    "In SciPy, as said before, all we need is the matrix and vector inputs, and then we can put it into the `linprog()` function. Here, we will use `numpy` to create the matrix and vectors."
   ]
  },
  {
   "cell_type": "code",
   "execution_count": 14,
   "id": "3a9e536a-2043-45f0-b833-6606ca542ed1",
   "metadata": {},
   "outputs": [
    {
     "name": "stdout",
     "output_type": "stream",
     "text": [
      "CPU times: user 2.55 ms, sys: 2.76 ms, total: 5.31 ms\n",
      "Wall time: 4.95 ms\n"
     ]
    },
    {
     "data": {
      "text/plain": [
       "           con: array([], dtype=float64)\n",
       " crossover_nit: 0\n",
       "         eqlin:  marginals: array([], dtype=float64)\n",
       "  residual: array([], dtype=float64)\n",
       "           fun: -13.0\n",
       "       ineqlin:  marginals: array([-1., -0., -1.])\n",
       "  residual: array([0., 1., 0.])\n",
       "         lower:  marginals: array([0., 3., 0.])\n",
       "  residual: array([2., 0., 1.])\n",
       "       message: 'Optimization terminated successfully. (HiGHS Status 7: Optimal)'\n",
       "           nit: 2\n",
       "         slack: array([0., 1., 0.])\n",
       "        status: 0\n",
       "       success: True\n",
       "         upper:  marginals: array([0., 0., 0.])\n",
       "  residual: array([inf, inf, inf])\n",
       "             x: array([2., 0., 1.])"
      ]
     },
     "execution_count": 14,
     "metadata": {},
     "output_type": "execute_result"
    }
   ],
   "source": [
    "%%time\n",
    "\n",
    "A = np.array([[2., 3., 1.], [4., 1., 2.], [3., 4., 2.]])\n",
    "c = np.array([5., 4., 3.])\n",
    "b = np.array([5., 11., 8.])\n",
    "linprog(-c, A, b)"
   ]
  },
  {
   "cell_type": "markdown",
   "id": "77bf00ae-8cde-4ae6-a9b0-515967d7c953",
   "metadata": {},
   "source": [
    "## Discussion\n",
    "\n",
    "The wall time taken for the SciPy function to run is significantly shorter than that of PuLP. But before we dive in to what I found, we'll take a look at what generally is accepted to be the better optimization tool.\n",
    "\n",
    "### Previously Existing Comparisons\n",
    "When doing this artifact, I found that the main comparisons people had already made between the two packages are as follows:\n",
    "- SciPy does not provide classes and functions from which we can build a model, but is based off of vectors and matrices instead. This can be tedious for larger optimization problems. \n",
    "- PuLP has a range of different solvers we can use, which provide more flexibility\n",
    "- SciPy only allows minimization problems\n",
    "- Defining constraints through SciPy is rigid, and multiple different vectors need to be stated if there are both inequality and equality constraints\n",
    "- SciPy is quicker as it uses the HiGHS solver\n",
    "\n",
    "### Results\n",
    "From this artifact, I found that much of what was previously said rings true, but I find that the two different packages would be equally benefitial for different cases. In solving simple LP problems like the above one, I found that SciPy is much more effective and is easier to use, whereas PuLP takes more time in building the constraints and is more complex. When building larger models, I think PuLP would be better to use as it has more flexibility with the constraints, and allows for more complex problems to be defined. Overall, even with SciPy having a faster runtime, I find that PuLP is better to use in general.\n",
    "\n",
    "### Further exploration\n",
    "While these arethe two common methods used for linear optimization, there are also other packages, such as Pyomo and Google OR tools, that can be used to solve such problems. This provides more options and further techniques to explore, and see which one is \"better\"."
   ]
  },
  {
   "cell_type": "markdown",
   "id": "974c13fb-e7de-450d-bc48-b59a483fc003",
   "metadata": {},
   "source": [
    "# References\n",
    "Real Python. (2020, November 7). Hands-on Linear Programming: Optimization with python. Real Python. Retrieved December 8, 2022, from https://realpython.com/linear-programming-python/ "
   ]
  },
  {
   "cell_type": "code",
   "execution_count": null,
   "id": "9f79499d-ecda-478b-98c7-97a0b2f1486f",
   "metadata": {},
   "outputs": [],
   "source": []
  }
 ],
 "metadata": {
  "kernelspec": {
   "display_name": "Python 3 (ipykernel)",
   "language": "python",
   "name": "python3"
  },
  "language_info": {
   "codemirror_mode": {
    "name": "ipython",
    "version": 3
   },
   "file_extension": ".py",
   "mimetype": "text/x-python",
   "name": "python",
   "nbconvert_exporter": "python",
   "pygments_lexer": "ipython3",
   "version": "3.10.6"
  }
 },
 "nbformat": 4,
 "nbformat_minor": 5
}
